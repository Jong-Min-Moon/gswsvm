{
 "cells": [
  {
   "cell_type": "code",
   "execution_count": 5,
   "metadata": {},
   "outputs": [
    {
     "ename": "SyntaxError",
     "evalue": "invalid syntax (2784859318.py, line 1)",
     "output_type": "error",
     "traceback": [
      "\u001b[0;36m  File \u001b[0;32m\"/var/folders/xt/gckx_34x3p551zmjr4nm435m0000gn/T/ipykernel_92867/2784859318.py\"\u001b[0;36m, line \u001b[0;32m1\u001b[0m\n\u001b[0;31m    text = \"\\hline\"+\u001b[0m\n\u001b[0m                    ^\u001b[0m\n\u001b[0;31mSyntaxError\u001b[0m\u001b[0;31m:\u001b[0m invalid syntax\n"
     ]
    }
   ],
   "source": [
    "text = \"\\hline\"+\n",
    "\"\\multirow{3}{*}{10} & GS-WSVM & \" + \n",
    "0.930 +\n",
    "\"& - & - \\\\\"\n",
    "& SVM & 0.915 & - & - \\\\\n",
    "& SVMDC & 0.887 & - & - \\\\\n",
    "& ClusterSVM & 0.805 & - & - \\\\\n",
    "& SMOTE-SVM & 0.937 & - & - \\\\\n",
    "& BLSMOTE-SVM & 0.939 & - & - \\\\\n",
    "& DBSMOTE-SVM & 0.934 & - & - \\\\\n",
    "\\hline\n",
    "\\multirow{3}{*}{15} & GS-WSVM & - & - & - \\\\\n",
    "& SVM & - & - & - \\\\\n",
    "& SVMDC & - & - & - \\\\\n",
    "& ClusterSVM & - & - & - \\\\\n",
    "& SMOTE-SVM & - & - & - \\\\\n",
    "& BLSMOTE-SVM & - & - & - \\\\\n",
    "& DBSMOTE-SVM & - & - & - \\\\\n",
    "\\hline\n",
    "\\multirow{3}{*}{20} & GS-WSVM & - & - & - \\\\\n",
    "& SVM & - & - & - \\\\\n",
    "& SVMDC & - & - & - \\\\\n",
    "& ClusterSVM & - & - & - \\\\\n",
    "& SMOTE-SVM & - & - & - \\\\\n",
    "& BLSMOTE-SVM & - & - & - \\\\\n",
    "& DBSMOTE-SVM & - & - & - \\\\\n",
    "\\hline\n",
    "\\multirow{3}{*}{25} & GS-WSVM & - & - & - \\\\\n",
    "& SVM & - & - & - \\\\\n",
    "& SVMDC & - & - & - \\\\\n",
    "& ClusterSVM & - & - & - \\\\\n",
    "& SMOTE-SVM & - & - & - \\\\\n",
    "& BLSMOTE-SVM & - & - & - \\\\\n",
    "& DBSMOTE-SVM & - & - & - \\\\\n",
    "\\hline\n",
    "\\multirow{3}{*}{30} & GS-WSVM & - & - & - \\\\\n",
    "& SVM & - & - & - \\\\\n",
    "& SVMDC & - & - & - \\\\\n",
    "& ClusterSVM & - & - & - \\\\\n",
    "& SMOTE-SVM & - & - & - \\\\\n",
    "& BLSMOTE-SVM & - & - & - \\\\\n",
    "& DBSMOTE-SVM & - & - & - \\\\\n",
    "\\hline\n",
    "\\multirow{3}{*}{35} & GS-WSVM & - & - & - \\\\\n",
    "& SVM & - & - & - \\\\\n",
    "& SVMDC & - & - & - \\\\\n",
    "& ClusterSVM & - & - & - \\\\\n",
    "& SMOTE-SVM & - & - & - \\\\\n",
    "& BLSMOTE-SVM & - & - & - \\\\\n",
    "& DBSMOTE-SVM & - & - & - \\\\\n",
    "\\hline\n",
    "\\multirow{3}{*}{40} & GS-WSVM & - & - & - \\\\\n",
    "& SVM & - & - & - \\\\\n",
    "& SVMDC & - & - & - \\\\\n",
    "& ClusterSVM & - & - & - \\\\\n",
    "& SMOTE-SVM & - & - & - \\\\\n",
    "& BLSMOTE-SVM & - & - & - \\\\\n",
    "& DBSMOTE-SVM & - & - & - \\\\\n",
    "\\hline\n",
    "\\hline\n",
    "\\end{tabular}\n",
    "\\end{table}\n",
    "\"\"\""
   ]
  },
  {
   "cell_type": "code",
   "execution_count": 4,
   "metadata": {},
   "outputs": [
    {
     "data": {
      "text/plain": [
       "'ab'"
      ]
     },
     "execution_count": 4,
     "metadata": {},
     "output_type": "execute_result"
    }
   ],
   "source": [
    "\"a\" + \"b\""
   ]
  },
  {
   "cell_type": "code",
   "execution_count": null,
   "metadata": {},
   "outputs": [],
   "source": []
  }
 ],
 "metadata": {
  "interpreter": {
   "hash": "aee8b7b246df8f9039afb4144a1f6fd8d2ca17a180786b69acc140d282b71a49"
  },
  "kernelspec": {
   "display_name": "Python 3.9.6 64-bit",
   "language": "python",
   "name": "python3"
  },
  "language_info": {
   "codemirror_mode": {
    "name": "ipython",
    "version": 3
   },
   "file_extension": ".py",
   "mimetype": "text/x-python",
   "name": "python",
   "nbconvert_exporter": "python",
   "pygments_lexer": "ipython3",
   "version": "3.9.6"
  },
  "orig_nbformat": 4
 },
 "nbformat": 4,
 "nbformat_minor": 2
}
